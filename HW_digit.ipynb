{
  "nbformat": 4,
  "nbformat_minor": 0,
  "metadata": {
    "kernelspec": {
      "display_name": "Python 3",
      "language": "python",
      "name": "python3"
    },
    "language_info": {
      "codemirror_mode": {
        "name": "ipython",
        "version": 3
      },
      "file_extension": ".py",
      "mimetype": "text/x-python",
      "name": "python",
      "nbconvert_exporter": "python",
      "pygments_lexer": "ipython3",
      "version": "3.8.5"
    },
    "colab": {
      "name": "HW_digit.ipynb",
      "provenance": [],
      "collapsed_sections": []
    }
  },
  "cells": [
    {
      "cell_type": "markdown",
      "metadata": {
        "id": "n3SyTbxoSLSc"
      },
      "source": [
        ""
      ]
    },
    {
      "cell_type": "code",
      "metadata": {
        "id": "VduyMOhYLEPS"
      },
      "source": [
        "import matplotlib.pyplot as plt\n",
        "import numpy as np\n",
        "\n",
        "# Import datasets, classifiers and performance metrics\n",
        "from sklearn import datasets, svm, metrics\n",
        "from sklearn.model_selection import train_test_split"
      ],
      "execution_count": null,
      "outputs": []
    },
    {
      "cell_type": "code",
      "metadata": {
        "id": "akyyV0P6LG4g"
      },
      "source": [
        "# The digits dataset\n",
        "digits = datasets.load_digits()"
      ],
      "execution_count": null,
      "outputs": []
    },
    {
      "cell_type": "code",
      "metadata": {
        "id": "_cawGSGRAD3c"
      },
      "source": [
        "# The data that we are interested in is made of 8x8 images of digits, let's\n",
        "# have a look at the first 4 images, stored in the `images` attribute of the\n",
        "# dataset.  If we were working from image files, we could load them using\n",
        "# matplotlib.pyplot.imread.  Note that each image must have the same size. For these\n",
        "# images, we know which digit they represent: it is given in the 'target' of\n",
        "# the dataset.\n",
        "def plot_multi(i):\n",
        "    '''Plots 16 digits, starting with digit i'''\n",
        "    nplots = 16\n",
        "    fig = plt.figure(figsize=(8,8))\n",
        "    for j in range(nplots):\n",
        "        plt.subplot(4,4,j+1)\n",
        "        plt.imshow(digits.images[i+j], cmap='binary')\n",
        "        plt.title(digits.target[i+j])\n",
        "        plt.axis('off')\n",
        "    plt.show()"
      ],
      "execution_count": null,
      "outputs": []
    },
    {
      "cell_type": "code",
      "metadata": {
        "id": "Axnbg959LdEv"
      },
      "source": [
        "# To apply a classifier on this data, we need to flatten the image, to\n",
        "# turn the data in a (samples, feature) matrix:\n",
        "n_samples = len(digits.images)\n",
        "data = digits.images.reshape((n_samples, -1))"
      ],
      "execution_count": null,
      "outputs": []
    },
    {
      "cell_type": "code",
      "metadata": {
        "id": "Sj4Z9uHdLj3w"
      },
      "source": [
        "# Split data into train and test subsets\n",
        "X_train, X_test, y_train, y_test = train_test_split(\n",
        "    data, digits.target, test_size=0.3, shuffle=False)"
      ],
      "execution_count": null,
      "outputs": []
    },
    {
      "cell_type": "code",
      "metadata": {
        "id": "TdRHe8OLn1mc",
        "colab": {
          "base_uri": "https://localhost:8080/"
        },
        "outputId": "f25ce392-d1f7-4c0e-8b48-9afc02128ccf"
      },
      "source": [
        "from sklearn.neural_network import MLPClassifier\n",
        "from sklearn.metrics import accuracy_score\n",
        "all_result = np.array([[],[],[]], dtype=float)\n",
        "Solver = [\"lbfgs\",\"sgd\",\"adam\"]\n",
        "for L_size in range(5,100,5):\n",
        "  sol_result = np.ndarray(shape=(3,1) ,dtype=float)\n",
        "  for a in range(0,3):\n",
        "    \n",
        "    mlp2 = MLPClassifier(hidden_layer_sizes=(L_size), \n",
        "                    activation='logistic', \n",
        "                    max_iter = 1000,\n",
        "                    solver=Solver[a],\n",
        "                    learning_rate='constant',\n",
        "                    learning_rate_init=0.01, \n",
        "                    verbose=False)\n",
        "    classifier2 = mlp2.fit(X_train, y_train)\n",
        "    predicted2 = mlp2.predict(X_test)\n",
        "    sol_result[a][0] = accuracy_score(y_test, predicted2)\n",
        "  all_result = np.append(all_result, sol_result,  axis = 1)\n",
        "\n",
        "\n"
      ],
      "execution_count": null,
      "outputs": [
        {
          "output_type": "stream",
          "text": [
            "/usr/local/lib/python3.6/dist-packages/sklearn/neural_network/_multilayer_perceptron.py:470: ConvergenceWarning: lbfgs failed to converge (status=1):\n",
            "STOP: TOTAL NO. of ITERATIONS REACHED LIMIT.\n",
            "\n",
            "Increase the number of iterations (max_iter) or scale the data as shown in:\n",
            "    https://scikit-learn.org/stable/modules/preprocessing.html\n",
            "  self.n_iter_ = _check_optimize_result(\"lbfgs\", opt_res, self.max_iter)\n",
            "/usr/local/lib/python3.6/dist-packages/sklearn/neural_network/_multilayer_perceptron.py:470: ConvergenceWarning: lbfgs failed to converge (status=1):\n",
            "STOP: TOTAL NO. of ITERATIONS REACHED LIMIT.\n",
            "\n",
            "Increase the number of iterations (max_iter) or scale the data as shown in:\n",
            "    https://scikit-learn.org/stable/modules/preprocessing.html\n",
            "  self.n_iter_ = _check_optimize_result(\"lbfgs\", opt_res, self.max_iter)\n"
          ],
          "name": "stderr"
        }
      ]
    },
    {
      "cell_type": "code",
      "metadata": {
        "id": "95MZQjtKcOpr",
        "colab": {
          "base_uri": "https://localhost:8080/"
        },
        "outputId": "dab29b7f-7ba5-41cd-d7cc-c1874cf9a687"
      },
      "source": [
        "print(all_result)"
      ],
      "execution_count": null,
      "outputs": [
        {
          "output_type": "stream",
          "text": [
            "[[0.71851852 0.68333333 0.87777778 0.88703704 0.86481481 0.86296296\n",
            "  0.8962963  0.89814815 0.87777778 0.90740741 0.89444444 0.88703704\n",
            "  0.88888889 0.88703704 0.89259259 0.89259259 0.90925926 0.90925926\n",
            "  0.89814815]\n",
            " [0.7962963  0.89814815 0.9037037  0.91296296 0.91481481 0.93518519\n",
            "  0.92777778 0.93333333 0.92962963 0.93518519 0.93703704 0.94074074\n",
            "  0.93703704 0.93888889 0.93333333 0.93333333 0.92777778 0.93703704\n",
            "  0.93148148]\n",
            " [0.87037037 0.88148148 0.89814815 0.90740741 0.92037037 0.91851852\n",
            "  0.92777778 0.92962963 0.91666667 0.93333333 0.93888889 0.93518519\n",
            "  0.93518519 0.93888889 0.93333333 0.93333333 0.93148148 0.93888889\n",
            "  0.93703704]]\n"
          ],
          "name": "stdout"
        }
      ]
    },
    {
      "cell_type": "code",
      "metadata": {
        "id": "cJmGiPYncOja",
        "colab": {
          "base_uri": "https://localhost:8080/",
          "height": 367
        },
        "outputId": "9bb98ba2-5e7c-4e9e-a046-695bf29bfd41"
      },
      "source": [
        "plt.plot(range(5, 100, 5), all_result[0], '-o', label = \"lbfgs\")\n",
        "plt.plot(range(5, 100, 5), all_result[1], '-o', label = \"sgd\")\n",
        "plt.plot(range(5, 100, 5), all_result[2], '-o', label = \"adam\")\n",
        "plt.title('accuracy comparasion ')\n",
        "plt.ylabel('accuracy')\n",
        "plt.xlabel('number of layer')\n",
        "plt.grid()\n",
        "plt.rcParams[\"figure.figsize\"] = (10,5)\n",
        "plt.legend()\n",
        "plt.show"
      ],
      "execution_count": null,
      "outputs": [
        {
          "output_type": "execute_result",
          "data": {
            "text/plain": [
              "<function matplotlib.pyplot.show>"
            ]
          },
          "metadata": {
            "tags": []
          },
          "execution_count": 44
        },
        {
          "output_type": "display_data",
          "data": {
            "image/png": "[encoded data removed]",
            "text/plain": [
              "<Figure size 360x360 with 1 Axes>"
            ]
          },
          "metadata": {
            "tags": [],
            "needs_background": "light"
          }
        }
      ]
    },
    {
      "cell_type": "code",
      "metadata": {
        "id": "mb7m8ci5OiuB"
      },
      "source": [
        "\n",
        "# https://scikit-learn.org/stable/modules/generated/sklearn.neural_network.MLPClassifier.html\n",
        "# Specify an MLP model\n",
        "classifier = MLPClassifier(hidden_layer_sizes=(30), \n",
        "                    activation='logistic', \n",
        "                    max_iter = 1000,\n",
        "                    solver='sgd',\n",
        "                    learning_rate='constant',\n",
        "                    learning_rate_init=0.02, \n",
        "                    verbose=True)"
      ],
      "execution_count": null,
      "outputs": []
    },
    {
      "cell_type": "code",
      "metadata": {
        "id": "7t5snp5RLmhF"
      },
      "source": [
        "# We learn the digits on the first half of the digits\n",
        "classifier.fit(X_train, y_train)"
      ],
      "execution_count": null,
      "outputs": []
    },
    {
      "cell_type": "code",
      "metadata": {
        "id": "5i-F1liYLp92"
      },
      "source": [
        "# Now predict the value of the digit on the second half:\n",
        "predicted = classifier.predict(X_test)"
      ],
      "execution_count": null,
      "outputs": []
    },
    {
      "cell_type": "code",
      "metadata": {
        "id": "GA-kQc0ER38p",
        "colab": {
          "base_uri": "https://localhost:8080/"
        },
        "outputId": "3a08ab7e-36d7-48df-cb87-1ef5b1b23d9a"
      },
      "source": [
        "print (len(predicted))"
      ],
      "execution_count": null,
      "outputs": [
        {
          "output_type": "stream",
          "text": [
            "540\n"
          ],
          "name": "stdout"
        }
      ]
    },
    {
      "cell_type": "code",
      "metadata": {
        "id": "mpTQKW8oQHwh",
        "colab": {
          "base_uri": "https://localhost:8080/"
        },
        "outputId": "a2d38c78-e85e-4c3e-dca8-7be47ea90106"
      },
      "source": [
        "\n",
        "accuracy_score(y_test, predicted)\n",
        "# We managed to get a level of accuracy of 85.07%"
      ],
      "execution_count": null,
      "outputs": [
        {
          "output_type": "execute_result",
          "data": {
            "text/plain": [
              "0.9407407407407408"
            ]
          },
          "metadata": {
            "tags": []
          },
          "execution_count": 58
        }
      ]
    },
    {
      "cell_type": "code",
      "metadata": {
        "id": "BaZf7ZhWPJf5",
        "colab": {
          "base_uri": "https://localhost:8080/",
          "height": 557
        },
        "outputId": "e49d71dc-097a-4838-bf21-748a3f5b1430"
      },
      "source": [
        "disp = metrics.plot_confusion_matrix(classifier, X_test, y_test)\n",
        "disp.figure_.suptitle(\"Confusion Matrix\")\n",
        "print(\"Confusion matrix:\\n%s\" % disp.confusion_matrix)\n",
        "plt.rcParams[\"figure.figsize\"] = (5,5)\n",
        "plt.show()"
      ],
      "execution_count": null,
      "outputs": [
        {
          "output_type": "stream",
          "text": [
            "Confusion matrix:\n",
            "[[50  0  0  0  1  0  2  0  0  0]\n",
            " [ 0 46  0  2  1  0  0  0  1  3]\n",
            " [ 0  0 53  0  0  0  0  0  0  0]\n",
            " [ 0  0  1 43  0  1  0  1  7  0]\n",
            " [ 0  1  0  0 54  0  0  0  0  2]\n",
            " [ 0  0  0  0  1 53  2  0  0  0]\n",
            " [ 0  3  0  0  0  0 51  0  0  0]\n",
            " [ 0  0  0  0  2  0  0 51  1  0]\n",
            " [ 0  2  0  0  0  2  0  0 48  0]\n",
            " [ 1  0  0  1  0  2  0  0  0 51]]\n"
          ],
          "name": "stdout"
        },
        {
          "output_type": "display_data",
          "data": {
            "image/png": "[encoded data removed]",
            "text/plain": [
              "<Figure size 720x360 with 2 Axes>"
            ]
          },
          "metadata": {
            "tags": [],
            "needs_background": "light"
          }
        }
      ]
    },
    {
      "cell_type": "code",
      "metadata": {
        "id": "1-QeYPc_RO7v",
        "colab": {
          "base_uri": "https://localhost:8080/"
        },
        "outputId": "f6b3847f-aeb0-485b-ee68-19f8e2a6c890"
      },
      "source": [
        "print(\"Classification report for classifier %s:\\n%s\\n\"\n",
        "      % (classifier, metrics.classification_report(y_test, predicted)))"
      ],
      "execution_count": null,
      "outputs": [
        {
          "output_type": "stream",
          "text": [
            "Classification report for classifier MLPClassifier(activation='logistic', alpha=0.0001, batch_size='auto',\n",
            "              beta_1=0.9, beta_2=0.999, early_stopping=False, epsilon=1e-08,\n",
            "              hidden_layer_sizes=20, learning_rate='constant',\n",
            "              learning_rate_init=0.02, max_fun=15000, max_iter=1000,\n",
            "              momentum=0.9, n_iter_no_change=10, nesterovs_momentum=True,\n",
            "              power_t=0.5, random_state=None, shuffle=True, solver='sgd',\n",
            "              tol=0.0001, validation_fraction=0.1, verbose=True,\n",
            "              warm_start=False):\n",
            "              precision    recall  f1-score   support\n",
            "\n",
            "           0       0.98      0.94      0.96        53\n",
            "           1       0.88      0.87      0.88        53\n",
            "           2       0.98      1.00      0.99        53\n",
            "           3       0.93      0.81      0.87        53\n",
            "           4       0.92      0.95      0.93        57\n",
            "           5       0.91      0.95      0.93        56\n",
            "           6       0.93      0.94      0.94        54\n",
            "           7       0.98      0.94      0.96        54\n",
            "           8       0.84      0.92      0.88        52\n",
            "           9       0.91      0.93      0.92        55\n",
            "\n",
            "    accuracy                           0.93       540\n",
            "   macro avg       0.93      0.93      0.93       540\n",
            "weighted avg       0.93      0.93      0.93       540\n",
            "\n",
            "\n"
          ],
          "name": "stdout"
        }
      ]
    }
  ]
}